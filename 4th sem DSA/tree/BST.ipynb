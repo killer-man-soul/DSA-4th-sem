{
 "cells": [
  {
   "cell_type": "code",
   "execution_count": 13,
   "metadata": {},
   "outputs": [],
   "source": [
    "\n",
    "class BinaryTree:\n",
    "    def __init__(self, data):\n",
    "        self.data = data\n",
    "        self.left = None\n",
    "        self.right = None\n",
    "\n",
    "    def insert(self, key):\n",
    "        if self.data is None:\n",
    "            self.data = key\n",
    "        if self.data == key:\n",
    "            return None\n",
    "        if self.data > key:\n",
    "            if self.left:\n",
    "                self.left.insert(key)\n",
    "            else:\n",
    "                self.left = BinaryTree(key)\n",
    "        else:\n",
    "            if self.right:\n",
    "                self.right.insert(key)\n",
    "            else:\n",
    "                self.right = BinaryTree(key)\n",
    "    \n",
    "    def search(self, key):\n",
    "        if self.data == key:\n",
    "            return True\n",
    "        if self.data < key:\n",
    "            if self.right:\n",
    "                self.right.search(key)\n",
    "            return False\n",
    "        else:\n",
    "            if self.left:\n",
    "                self.left.search(key)\n",
    "            return False\n",
    "        \n",
    "    def preorder(self):\n",
    "        if self.data:\n",
    "            print(self.data, end = \" \")\n",
    "        if self.left:\n",
    "            self.left.preorder()\n",
    "        if self.right:\n",
    "            self.right.preorder()\n",
    "\n",
    "    def postorder(self):\n",
    "        if self.data:\n",
    "            if self.left:\n",
    "                self.left.postorder()\n",
    "            if self.right:\n",
    "                self.right.postorder()\n",
    "            print(self.data,end = \" \")\n",
    "\n",
    "    def inorder(self):\n",
    "        if self.data:\n",
    "            if self.left:\n",
    "                self.left.inorder()\n",
    "            if self.data:\n",
    "                print(self.data,end = \" \")\n",
    "            if self.right:\n",
    "                self.right.inorder()\n",
    "\n",
    "    def smallestNode(self):\n",
    "        temp = self\n",
    "        while temp.left:\n",
    "            temp = temp.left\n",
    "        return temp.data\n",
    "        \n",
    "    def largestNode(self):\n",
    "        temp = self\n",
    "        while temp.right:\n",
    "            temp = temp.right\n",
    "        return temp.data\n",
    "        \n",
    "        "
   ]
  },
  {
   "cell_type": "code",
   "execution_count": 14,
   "metadata": {},
   "outputs": [
    {
     "name": "stdout",
     "output_type": "stream",
     "text": [
      "2 3 7 12 17 20 30 "
     ]
    }
   ],
   "source": [
    "s=BinaryTree(3)\n",
    "s.insert(20)\n",
    "s.insert(30)\n",
    "s.insert(12)\n",
    "s.insert(7)\n",
    "s.insert(2)\n",
    "s.insert(17)\n",
    "s.inorder()\n"
   ]
  },
  {
   "cell_type": "code",
   "execution_count": 16,
   "metadata": {},
   "outputs": [
    {
     "data": {
      "text/plain": [
       "30"
      ]
     },
     "execution_count": 16,
     "metadata": {},
     "output_type": "execute_result"
    }
   ],
   "source": [
    "s.largestNode()"
   ]
  }
 ],
 "metadata": {
  "kernelspec": {
   "display_name": "Python 3",
   "language": "python",
   "name": "python3"
  },
  "language_info": {
   "codemirror_mode": {
    "name": "ipython",
    "version": 3
   },
   "file_extension": ".py",
   "mimetype": "text/x-python",
   "name": "python",
   "nbconvert_exporter": "python",
   "pygments_lexer": "ipython3",
   "version": "3.10.1"
  },
  "orig_nbformat": 4
 },
 "nbformat": 4,
 "nbformat_minor": 2
}
