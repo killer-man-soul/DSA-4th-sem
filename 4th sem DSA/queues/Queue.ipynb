{
 "cells": [
  {
   "cell_type": "code",
   "execution_count": null,
   "metadata": {},
   "outputs": [],
   "source": [
    "class Queue:\n",
    "    def __init__(self,limit):\n",
    "        self.limit = limit\n",
    "        self.front = self.rear = -1\n",
    "        self.Q=[]\n",
    "\n",
    "    def enqueue(self,data):\n",
    "        if self.rear == self.limit-1:\n",
    "            return \"overflow\"\n",
    "        else:\n",
    "            self.Q.append(data)\n",
    "            if self.front == -1 and self.rear == -1:\n",
    "                self.front+=1\n",
    "                self.rear+=1\n",
    "            else:\n",
    "                self.rear+=1\n",
    "                            \n",
    "    def dequeue(self):\n",
    "        if self.front == -1 and self.rear == -1:\n",
    "            return \"underflow\"\n",
    "        else:\n",
    "            s=0\n",
    "            for i in self.Q:\n",
    "                if i==\" \":\n",
    "                    s+= 1\n",
    "            self.Q[s]=\" \"\n",
    "            if self.front == 0 and self.rear == 0:\n",
    "                self.front -=1\n",
    "                self.rear -=1\n",
    "            else:\n",
    "                self.front +=1\n",
    "\n",
    "    def display(self):\n",
    "        lst=[]\n",
    "        for i in self.Q:\n",
    "            if i!=\" \":\n",
    "                lst.append(i)\n",
    "        return lst\n",
    "    \n",
    "    def front_(self):\n",
    "        if self.isempty():\n",
    "            print(\"queue is empty\")\n",
    "        else :\n",
    "            return self.Q[self.front]\n",
    "\n",
    "    def rear_(self):\n",
    "        if self.isempty():\n",
    "            print(\"ques is empty\")\n",
    "        else:\n",
    "            return self.Q[self.rear]\n",
    "            \n",
    "    def isfull(self):\n",
    "        return self.rear == self.limit-1\n",
    "    \n",
    "    def isempty(self):\n",
    "        return self.front == self.rear\n"
   ]
  },
  {
   "cell_type": "code",
   "execution_count": 3,
   "metadata": {},
   "outputs": [],
   "source": [
    "q=Queue(5)\n"
   ]
  },
  {
   "cell_type": "code",
   "execution_count": 4,
   "metadata": {},
   "outputs": [],
   "source": [
    "q.enqueue(10)\n",
    "q.enqueue(20)\n",
    "q.enqueue(30)\n",
    "q.enqueue(40)"
   ]
  },
  {
   "cell_type": "code",
   "execution_count": 5,
   "metadata": {},
   "outputs": [
    {
     "data": {
      "text/plain": [
       "[10, 20, 30, 40]"
      ]
     },
     "execution_count": 5,
     "metadata": {},
     "output_type": "execute_result"
    }
   ],
   "source": [
    "q.display()"
   ]
  },
  {
   "cell_type": "code",
   "execution_count": 6,
   "metadata": {},
   "outputs": [
    {
     "data": {
      "text/plain": [
       "10"
      ]
     },
     "execution_count": 6,
     "metadata": {},
     "output_type": "execute_result"
    }
   ],
   "source": [
    "q.front_()"
   ]
  },
  {
   "cell_type": "code",
   "execution_count": null,
   "metadata": {},
   "outputs": [],
   "source": []
  }
 ],
 "metadata": {
  "kernelspec": {
   "display_name": "Python 3",
   "language": "python",
   "name": "python3"
  },
  "language_info": {
   "codemirror_mode": {
    "name": "ipython",
    "version": 3
   },
   "file_extension": ".py",
   "mimetype": "text/x-python",
   "name": "python",
   "nbconvert_exporter": "python",
   "pygments_lexer": "ipython3",
   "version": "3.10.1"
  },
  "orig_nbformat": 4,
  "vscode": {
   "interpreter": {
    "hash": "2a550a8d8fd6d242452b812b10df60af2c1952ddd171a737653c9e54f688e947"
   }
  }
 },
 "nbformat": 4,
 "nbformat_minor": 2
}
