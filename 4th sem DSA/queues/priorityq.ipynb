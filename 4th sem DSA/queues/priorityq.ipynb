{
 "cells": [
  {
   "cell_type": "code",
   "execution_count": 1,
   "metadata": {},
   "outputs": [],
   "source": [
    "class Node:\n",
    "    def __init__(self,data):\n",
    "        self.data=data\n",
    "        self.next=None\n",
    "class priorityQueue:\n",
    "    def __init__(self,limit):\n",
    "        self.head=None\n",
    "        self.limit=limit\n",
    "    def size(self):\n",
    "        l=0\n",
    "        n=self.head\n",
    "        while n!=None:\n",
    "            n=n.next\n",
    "            l+=1\n",
    "        return l\n",
    "    def push(self,new_data):\n",
    "        if self.size() < self.limit:\n",
    "            new_node=Node(new_data)\n",
    "            new_node.next=self.head\n",
    "            self.head=new_node\n",
    "        else:\n",
    "            print(\"overflow\")\n",
    "    def pop(self):\n",
    "        if self.size()>0:\n",
    "            n=self.head\n",
    "            value=n.data\n",
    "            while n.next!=None:\n",
    "                if n.next.data>value:\n",
    "                    value=n.next.data\n",
    "                n=n.next\n",
    "            if self.head.data==value:\n",
    "                self.head=self.head.next\n",
    "                return\n",
    "            n=self.head\n",
    "            while n.next.data!=value:\n",
    "                n=n.next\n",
    "            n.next=n.next.next\n",
    "        else:\n",
    "            print(\"underflow\")\n",
    "    def traverse(self):\n",
    "        n=self.head\n",
    "        while n!=None:\n",
    "            print(n.data, end=\" \")\n",
    "            n=n.next\n",
    "    def top(self):\n",
    "        n=self.head\n",
    "        value=n.data\n",
    "        while n.next!=None:\n",
    "            if n.next.data>value:\n",
    "                value=n.next.data\n",
    "            n=n.next\n",
    "        return value    \n"
   ]
  },
  {
   "cell_type": "code",
   "execution_count": 2,
   "metadata": {},
   "outputs": [
    {
     "name": "stdout",
     "output_type": "stream",
     "text": [
      "56 80 30 98 89 78 "
     ]
    }
   ],
   "source": [
    "q=priorityQueue(7)\n",
    "q.push(78)\n",
    "q.push(89)\n",
    "q.push(98)\n",
    "q.push(30)\n",
    "q.push(80)\n",
    "q.push(56)\n",
    "q.traverse()\n"
   ]
  },
  {
   "cell_type": "code",
   "execution_count": 3,
   "metadata": {},
   "outputs": [
    {
     "name": "stdout",
     "output_type": "stream",
     "text": [
      "56 80 30 89 78 "
     ]
    }
   ],
   "source": [
    "q.pop()\n",
    "q.traverse()"
   ]
  },
  {
   "cell_type": "code",
   "execution_count": 4,
   "metadata": {},
   "outputs": [
    {
     "data": {
      "text/plain": [
       "89"
      ]
     },
     "execution_count": 4,
     "metadata": {},
     "output_type": "execute_result"
    }
   ],
   "source": [
    "q.top()"
   ]
  }
 ],
 "metadata": {
  "kernelspec": {
   "display_name": "Python 3",
   "language": "python",
   "name": "python3"
  },
  "language_info": {
   "codemirror_mode": {
    "name": "ipython",
    "version": 3
   },
   "file_extension": ".py",
   "mimetype": "text/x-python",
   "name": "python",
   "nbconvert_exporter": "python",
   "pygments_lexer": "ipython3",
   "version": "3.10.1"
  },
  "orig_nbformat": 4,
  "vscode": {
   "interpreter": {
    "hash": "2a550a8d8fd6d242452b812b10df60af2c1952ddd171a737653c9e54f688e947"
   }
  }
 },
 "nbformat": 4,
 "nbformat_minor": 2
}
