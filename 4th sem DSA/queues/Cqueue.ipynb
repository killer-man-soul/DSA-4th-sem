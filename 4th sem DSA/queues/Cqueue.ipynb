{
 "cells": [
  {
   "cell_type": "code",
   "execution_count": 1,
   "metadata": {},
   "outputs": [],
   "source": [
    "class Queue:\n",
    "    def __init__(self):\n",
    "        self.elements = []\n",
    "        self.f=-1\n",
    "        self.r=-1\n",
    "        self.n = int(input(\"Enter size of queue:\"))\n",
    "    def enqueue(self,item):\n",
    "        if((self.f==self.r+1) or ((self.f==0) and (self.r==self.n-1))):\n",
    "            return \"queue overflow\"\n",
    "        else:\n",
    "            if((self.r==-1) and (self.f==-1)):\n",
    "                self.f=(self.f+1)%self.n\n",
    "                self.r=(self.r+1)%self.n\n",
    "                self.elements.append(item)\n",
    "                return self.elements\n",
    "            else:\n",
    "                self.r=(self.r+1)%self.n\n",
    "                self.elements.insert(self.r,item)\n",
    "                return self.elements\n",
    "    def dequeue(self):\n",
    "        if((self.f==-1) and (self.r==-1)):\n",
    "            return \"queue underflow\"\n",
    "        else:\n",
    "            if((self.f==self.r)):\n",
    "                item=self.elements.pop(0)\n",
    "                self.f=-1\n",
    "                self.r=-1\n",
    "                return item\n",
    "            else:\n",
    "                item=self.elements.pop(0)\n",
    "                self.f=(self.f+1)%self.n\n",
    "\n",
    "                return item\n",
    "    def isfull(self):\n",
    "        if((self.f==self.r+1) or ((self.f==0) and (self.r==self.n-1))):\n",
    "            return \"queue is full\"\n",
    "        else:\n",
    "            return self.elements\n",
    "    def isempty(self):\n",
    "        if((self.f==-1) and (self.r==-1)):\n",
    "            return \"Queue is empty\"\n",
    "        else:\n",
    "            return self.elements\n",
    "    def length(self):\n",
    "        return len(self.elements)\n",
    "    def display(self):\n",
    "        return self.elements\n",
    "    def display1(self):\n",
    "        return self.r\n"
   ]
  },
  {
   "cell_type": "code",
   "execution_count": null,
   "metadata": {},
   "outputs": [],
   "source": []
  }
 ],
 "metadata": {
  "kernelspec": {
   "display_name": "Python 3",
   "language": "python",
   "name": "python3"
  },
  "language_info": {
   "codemirror_mode": {
    "name": "ipython",
    "version": 3
   },
   "file_extension": ".py",
   "mimetype": "text/x-python",
   "name": "python",
   "nbconvert_exporter": "python",
   "pygments_lexer": "ipython3",
   "version": "3.10.1"
  },
  "orig_nbformat": 4,
  "vscode": {
   "interpreter": {
    "hash": "2a550a8d8fd6d242452b812b10df60af2c1952ddd171a737653c9e54f688e947"
   }
  }
 },
 "nbformat": 4,
 "nbformat_minor": 2
}
