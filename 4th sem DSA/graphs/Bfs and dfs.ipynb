{
 "cells": [
  {
   "cell_type": "code",
   "execution_count": 13,
   "metadata": {},
   "outputs": [],
   "source": [
    "#graph implementation using adjacency list\n",
    "class Graph:\n",
    "    def __init__(self,vertices):\n",
    "        self.vertices=vertices\n",
    "        self.adj_list={v:[] for v in vertices}\n",
    "    def add_edge(self,u,v):\n",
    "        self.adj_list[u].append(v)\n",
    "        self.adj_list[v].append(u)\n",
    "#DFS\n",
    "    def dfs(self,node):\n",
    "        visited={v: False for v in self.vertices}\n",
    "        stack=[node]\n",
    "        while stack:\n",
    "            vertex=stack.pop()\n",
    "            if not visited[vertex]:\n",
    "                visited[vertex]=True\n",
    "                print(vertex,end=\" \")\n",
    "            for neighbour in self.adj_list[vertex]:\n",
    "                if not visited[neighbour]:\n",
    "                    stack.append(neighbour)\n",
    "        print()\n",
    "#BFS\n",
    "    def bfs(self,node):\n",
    "        visited = {v:False for v in self.vertices}\n",
    "        queue=[node]\n",
    "        visited[node]=True\n",
    "        while queue:\n",
    "            vertex=queue.pop(0)\n",
    "            print(vertex,end=\" \")\n",
    "            for neighbour in self.adj_list[vertex]:\n",
    "                if not visited[neighbour]:\n",
    "                    visited[neighbour]=True\n",
    "                    queue.append(neighbour)\n",
    "        print()\n"
   ]
  },
  {
   "cell_type": "code",
   "execution_count": 14,
   "metadata": {},
   "outputs": [
    {
     "name": "stdout",
     "output_type": "stream",
     "text": [
      "A C E D B \n",
      "A B C D E \n"
     ]
    }
   ],
   "source": [
    "g = Graph(['A', 'B', 'C', 'D', 'E'])\n",
    "\n",
    "g.add_edge('A', 'B')\n",
    "g.add_edge('A', 'C')\n",
    "g.add_edge('B', 'D')\n",
    "g.add_edge('C', 'D')\n",
    "g.add_edge('C', 'E')\n",
    "\n",
    "g.dfs('A')\n",
    "g.bfs('A')"
   ]
  },
  {
   "cell_type": "code",
   "execution_count": 15,
   "metadata": {},
   "outputs": [
    {
     "name": "stdout",
     "output_type": "stream",
     "text": [
      "the bfs of the graph is :\n",
      "['A', 'B', 'C', 'D']\n",
      "the bfs of the graph is :\n",
      "['A', 'C', 'D', 'B']\n"
     ]
    }
   ],
   "source": [
    "graph={\n",
    "    'A':['B','C'],\n",
    "    'B':['A'],\n",
    "    'C':['A','D'],\n",
    "    'D':['C']\n",
    "}\n",
    "\n",
    "#BFS of a tree\n",
    "visited=[]\n",
    "queue=[]\n",
    "bfs_output=[]\n",
    "def bfs(visited,graph,node):\n",
    "    visited.append(node)\n",
    "    queue.append(node)\n",
    "    while queue:\n",
    "        m=queue.pop(0)\n",
    "        bfs_output.append(m)\n",
    "        for neighbour in graph[m]:\n",
    "            if neighbour not in visited:\n",
    "                visited.append(neighbour)\n",
    "                queue.append(neighbour)\n",
    "    print(\"the bfs of the graph is :\")\n",
    "    print(bfs_output)\n",
    "bfs(visited,graph,'A')\n",
    "\n",
    "#DFS of a tree\n",
    "visited=[]\n",
    "stack=[]\n",
    "bfs_output=[]\n",
    "def dfs(visited,graph,node):\n",
    "    visited.append(node)\n",
    "    stack.append(node)\n",
    "    while stack:\n",
    "        m=stack.pop()\n",
    "        bfs_output.append(m)\n",
    "        for neighbour in graph[m]:\n",
    "            if neighbour not in visited:\n",
    "                visited.append(neighbour)\n",
    "                stack.append(neighbour)\n",
    "    print(\"the bfs of the graph is :\")\n",
    "    print(bfs_output)\n",
    "dfs(visited,graph,'A')"
   ]
  }
 ],
 "metadata": {
  "kernelspec": {
   "display_name": "Python 3",
   "language": "python",
   "name": "python3"
  },
  "language_info": {
   "codemirror_mode": {
    "name": "ipython",
    "version": 3
   },
   "file_extension": ".py",
   "mimetype": "text/x-python",
   "name": "python",
   "nbconvert_exporter": "python",
   "pygments_lexer": "ipython3",
   "version": "3.11.2"
  },
  "orig_nbformat": 4,
  "vscode": {
   "interpreter": {
    "hash": "97a6424d960b4f241dbb0235a7a85ffeb016f234d30a266a2d29bb7dc272fd03"
   }
  }
 },
 "nbformat": 4,
 "nbformat_minor": 2
}
