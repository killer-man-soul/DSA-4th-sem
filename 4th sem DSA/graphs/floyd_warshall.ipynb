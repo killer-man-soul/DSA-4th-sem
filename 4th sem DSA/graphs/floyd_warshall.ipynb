{
 "cells": [
  {
   "cell_type": "code",
   "execution_count": 3,
   "metadata": {},
   "outputs": [],
   "source": [
    "nV=4\n",
    "INF=999\n",
    "\n",
    "def floyd(G):\n",
    "    dist = list(map(lambda p: list(map(lambda q: q,p)),G))\n",
    "    for r in range(nV):\n",
    "        for p in range(nV):\n",
    "            for q in range(nV):\n",
    "                dist[p][q]=min(dist[p][q],dist[p][r]+dist[r][q])\n",
    "    sol(dist)\n",
    "def sol(dist):\n",
    "    for p in range(nV):\n",
    "        for q in range(nV):\n",
    "            if(dist[p][q]==INF):\n",
    "                print(\"INF\",end=\" \")\n",
    "            else:\n",
    "                print(dist[p][q],end=\" \")\n",
    "            \n"
   ]
  },
  {
   "cell_type": "code",
   "execution_count": 4,
   "metadata": {},
   "outputs": [
    {
     "name": "stdout",
     "output_type": "stream",
     "text": [
      "0 1 -4 3 6 0 2 2 11 5 0 7 12 6 1 0 "
     ]
    }
   ],
   "source": [
    "G=[[0,9,-4,INF],[6,0,INF,2],[INF,5,0,INF],[INF,INF,1,0]]\n",
    "floyd(G)"
   ]
  }
 ],
 "metadata": {
  "kernelspec": {
   "display_name": "Python 3",
   "language": "python",
   "name": "python3"
  },
  "language_info": {
   "codemirror_mode": {
    "name": "ipython",
    "version": 3
   },
   "file_extension": ".py",
   "mimetype": "text/x-python",
   "name": "python",
   "nbconvert_exporter": "python",
   "pygments_lexer": "ipython3",
   "version": "3.11.2"
  },
  "orig_nbformat": 4
 },
 "nbformat": 4,
 "nbformat_minor": 2
}
