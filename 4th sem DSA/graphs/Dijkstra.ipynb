{
 "cells": [
  {
   "cell_type": "code",
   "execution_count": 3,
   "metadata": {},
   "outputs": [],
   "source": [
    "class Graph():\n",
    "    def __init__(self, vertices):\n",
    "        self.V = vertices\n",
    "        self.graph = [[0 for column in range(vertices)]\n",
    "                      for row in range(vertices)]\n",
    "\n",
    "    def printSolution(self, dist):\n",
    "        print(\"Vertex \\t Distance from source\")\n",
    "        for node in range(self.V):\n",
    "            print(node, \"\\t\\t\", dist[node])\n",
    "\n",
    "    def minDistance(self, dist, sptSet):\n",
    "        min = 1e7\n",
    "        for v in range(self.V):\n",
    "            if dist[v] < min and sptSet[v] == False:\n",
    "                min = dist[v]\n",
    "                min_index = v\n",
    "        return min_index\n",
    "\n",
    "    def dijkstra(self, src):\n",
    "        dist = [1e7]*self.V\n",
    "        dist[src] = 0\n",
    "        sptSet = [False]*self.V\n",
    "        for count in range(self.V):\n",
    "            u = self.minDistance(dist, sptSet)\n",
    "            sptSet[u] = True\n",
    "            for v in range(self.V):\n",
    "                if (self.graph[u][v] > 0) and sptSet[v] == False and dist[v] > dist[u]+self.graph[u][v]:\n",
    "                    dist[v] = dist[u]+self.graph[u][v]\n",
    "        self.printSolution(dist)\n",
    "        \n"
   ]
  },
  {
   "cell_type": "code",
   "execution_count": 4,
   "metadata": {},
   "outputs": [
    {
     "name": "stdout",
     "output_type": "stream",
     "text": [
      "Vertex \t Distance from source\n",
      "0 \t\t 4\n",
      "1 \t\t 0\n",
      "2 \t\t 8\n",
      "3 \t\t 15\n",
      "4 \t\t 11\n",
      "5 \t\t 12\n",
      "6 \t\t 12\n",
      "7 \t\t 22\n",
      "8 \t\t 10\n"
     ]
    }
   ],
   "source": [
    "g = Graph(9)\n",
    "g.graph = [[0, 4, 0, 0, 8, 0, 0, 0, 0],\n",
    " [4, 0, 8, 0, 11, 0, 0, 0, 0],\n",
    " [0, 8, 0, 7, 0, 0, 4, 0, 2],\n",
    " [0, 0, 7, 0, 0, 0, 14,9, 0],\n",
    " [8, 11, 0, 0, 0, 1, 0, 0, 7],\n",
    " [0, 0, 0, 0, 1, 0, 2, 0, 6],\n",
    " [0, 0, 4, 14, 0, 2, 0, 10, 0],\n",
    " [0, 0, 0, 9, 0, 0, 10, 0, 0],\n",
    " [0, 0, 2, 0, 7, 6, 0, 0, 0]]\n",
    " \n",
    "g.dijkstra(1)"
   ]
  }
 ],
 "metadata": {
  "kernelspec": {
   "display_name": "Python 3",
   "language": "python",
   "name": "python3"
  },
  "language_info": {
   "codemirror_mode": {
    "name": "ipython",
    "version": 3
   },
   "file_extension": ".py",
   "mimetype": "text/x-python",
   "name": "python",
   "nbconvert_exporter": "python",
   "pygments_lexer": "ipython3",
   "version": "3.11.2"
  },
  "orig_nbformat": 4
 },
 "nbformat": 4,
 "nbformat_minor": 2
}
