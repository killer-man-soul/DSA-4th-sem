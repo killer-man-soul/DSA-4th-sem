{
 "cells": [
  {
   "cell_type": "code",
   "execution_count": 44,
   "metadata": {},
   "outputs": [],
   "source": [
    "class queue:\n",
    "    def __init__ (self,n):\n",
    "        self.items=[]\n",
    "        self.n=n\n",
    "        len(self.items)==self.n\n",
    "        self.f=-1\n",
    "        self.r=-1\n",
    "    def enqueue(self,data):\n",
    "        if self.f==-1 and self.r==-1:\n",
    "            self.items.append(data)\n",
    "            self.f+=1\n",
    "            self.r+=1\n",
    "        elif self.r==self.n-1:\n",
    "            print(\"queue is full\")\n",
    "        else:\n",
    "            self.items.append(data)\n",
    "            self.r+=1\n",
    "    def dequeue(self):\n",
    "        if self.f==-1 and self.r==-1:\n",
    "            print(\"queue is empty\")\n",
    "        else:\n",
    "            self.items.pop(self.f)\n",
    "            self.f+=1\n",
    "    def isfull(self):\n",
    "        if self.r==self.n-1:\n",
    "            print(\"queue is full\")\n",
    "    def isempty(self):\n",
    "        if self.f==self.r==-1:\n",
    "            print(\"queue is empty\")\n",
    "    def display(self):\n",
    "        print(self.items)\n",
    "    def traverse(self):\n",
    "        for i in self.items:\n",
    "            print(i)\n",
    "    \n",
    "    \n"
   ]
  },
  {
   "cell_type": "code",
   "execution_count": 45,
   "metadata": {},
   "outputs": [
    {
     "name": "stdout",
     "output_type": "stream",
     "text": [
      "queue is full\n",
      "10\n",
      "20\n",
      "30\n",
      "40\n",
      "50\n"
     ]
    }
   ],
   "source": [
    "q=queue(5)\n",
    "q.enqueue(10)\n",
    "q.enqueue(20)\n",
    "q.enqueue(30)\n",
    "q.enqueue(40)\n",
    "q.enqueue(50)\n",
    "q.isfull()\n",
    "q.traverse()\n"
   ]
  },
  {
   "cell_type": "code",
   "execution_count": 46,
   "metadata": {},
   "outputs": [],
   "source": [
    "class cirqueue:\n",
    "    def __init__(self,n):\n",
    "        self.items=[]\n",
    "        self.n=n\n",
    "        len(self.items)==self.n\n",
    "        self.f=-1\n",
    "        self.r=-1\n",
    "    def isfull(self):\n",
    "        if (self.r==self.n-1 and self.f==0) or (self.f==self.r+1):\n",
    "            print(\"queue is full\")\n",
    "    def isempty(self):\n",
    "        if self.f==self.r==-1:\n",
    "            print(\"queue is empty\")\n",
    "    def enqueue(self,data):\n",
    "        if self.isfull():\n",
    "            print(\"queue is full\")\n",
    "        elif self.f==self.r==-1:\n",
    "            self.items.append(data)\n",
    "            self.f+=1\n",
    "            self.r+=1\n",
    "        else:\n",
    "            self.items.append(data)\n",
    "            self.r=(self.r+1)%self.n\n",
    "    def dequeue(self):\n",
    "        if self.isempty():\n",
    "            print(\"queue is empty\")\n",
    "        else:\n",
    "            self.items.pop(self.f)\n",
    "            self.f=(self.f+1)%self.n\n",
    "    \n"
   ]
  },
  {
   "cell_type": "code",
   "execution_count": 49,
   "metadata": {},
   "outputs": [
    {
     "name": "stdout",
     "output_type": "stream",
     "text": [
      "queue is full\n"
     ]
    }
   ],
   "source": [
    "p=cirqueue(4)\n",
    "p.enqueue(10)\n",
    "p.enqueue(20)\n",
    "p.enqueue(30)\n",
    "p.enqueue(40)\n",
    "p.isfull()\n",
    "p.isempty()"
   ]
  }
 ],
 "metadata": {
  "kernelspec": {
   "display_name": "Python 3",
   "language": "python",
   "name": "python3"
  },
  "language_info": {
   "codemirror_mode": {
    "name": "ipython",
    "version": 3
   },
   "file_extension": ".py",
   "mimetype": "text/x-python",
   "name": "python",
   "nbconvert_exporter": "python",
   "pygments_lexer": "ipython3",
   "version": "3.10.1"
  },
  "orig_nbformat": 4,
  "vscode": {
   "interpreter": {
    "hash": "2a550a8d8fd6d242452b812b10df60af2c1952ddd171a737653c9e54f688e947"
   }
  }
 },
 "nbformat": 4,
 "nbformat_minor": 2
}
