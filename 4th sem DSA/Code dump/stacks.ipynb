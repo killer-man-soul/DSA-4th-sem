{
 "cells": [
  {
   "cell_type": "code",
   "execution_count": null,
   "metadata": {},
   "outputs": [],
   "source": [
    "class stack:\n",
    "    def __init__(self):\n",
    "        self.items=[]\n",
    "    def push(self,data):\n",
    "        self.items.append(data)\n",
    "    def pop(self):\n",
    "        self.items.pop()\n",
    "    def peek(self):\n",
    "        return self[-1]\n",
    "    def display(self):\n",
    "        print(self.items)\n",
    "\n",
    "def infixtopostfix(e):\n",
    "    e=input(\"enter the expression:\")\n",
    "    s=stack()\n",
    "    l=\"\"\n",
    "    \n",
    "\n",
    "    \n",
    "    \n",
    "        "
   ]
  }
 ],
 "metadata": {
  "kernelspec": {
   "display_name": "Python 3",
   "language": "python",
   "name": "python3"
  },
  "language_info": {
   "name": "python",
   "version": "3.10.1"
  },
  "orig_nbformat": 4,
  "vscode": {
   "interpreter": {
    "hash": "2a550a8d8fd6d242452b812b10df60af2c1952ddd171a737653c9e54f688e947"
   }
  }
 },
 "nbformat": 4,
 "nbformat_minor": 2
}
