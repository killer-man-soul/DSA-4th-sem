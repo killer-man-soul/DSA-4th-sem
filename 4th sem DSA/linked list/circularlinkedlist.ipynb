{
 "cells": [
  {
   "cell_type": "code",
   "execution_count": null,
   "metadata": {},
   "outputs": [],
   "source": [
    "class Node:\n",
    "    def __init__(self,data):\n",
    "        self.data=data\n",
    "        self.next=None\n",
    "    "
   ]
  }
 ],
 "metadata": {
  "kernelspec": {
   "display_name": "Python 3",
   "language": "python",
   "name": "python3"
  },
  "language_info": {
   "name": "python",
   "version": "3.10.1"
  },
  "orig_nbformat": 4,
  "vscode": {
   "interpreter": {
    "hash": "2a550a8d8fd6d242452b812b10df60af2c1952ddd171a737653c9e54f688e947"
   }
  }
 },
 "nbformat": 4,
 "nbformat_minor": 2
}
