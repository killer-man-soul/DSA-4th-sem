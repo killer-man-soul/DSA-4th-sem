{
 "cells": [
  {
   "cell_type": "code",
   "execution_count": 7,
   "metadata": {},
   "outputs": [],
   "source": [
    "class Node:\n",
    "    def __init__(self,data):\n",
    "        self.prev=None\n",
    "        self.data=data\n",
    "        self.next=None\n",
    "class Doublyli:\n",
    "    def __init__(self):\n",
    "        self.head=None\n",
    "    def traverse(self):\n",
    "        if self.head!=None:\n",
    "            n=self.head\n",
    "            while n!=None:\n",
    "                print(n.data)\n",
    "                n=n.next\n",
    "    def addbegin(self,new_data):\n",
    "        new_node=Node(new_data)\n",
    "        if self.head==None:\n",
    "            self.head=new_node\n",
    "        else:\n",
    "            self.prev=new_node\n",
    "            new_node.next=self.head\n",
    "            self.head=new_node\n",
    "    def addend(self,new_data):\n",
    "        new_node=Node(new_data)\n",
    "        if self.head==None:\n",
    "            self.head=new_node\n",
    "        else:\n",
    "            n=self.head\n",
    "            while n.next!=None:\n",
    "                n=n.next\n",
    "            n.next=new_node\n",
    "            new_node.prev=n\n",
    "    def addmiddle(self,new_data,pos):\n",
    "        new_node=Node(new_data)\n",
    "        if pos==1:\n",
    "            self.addbegin(new_node)\n",
    "        i=1\n",
    "        n=self.head\n",
    "        while i!=pos-1 and n!=None:\n",
    "            i+=1\n",
    "            n=n.next\n",
    "        if i==pos-1:\n",
    "            n.next.prev = new_node\n",
    "            new_node.next = n.next\n",
    "            n.next = new_node\n",
    "            new_node.prev = n\n",
    "        else:\n",
    "            print('enter the proper position!!!')   \n",
    "    def delbegin(self):\n",
    "        if self.head != None:\n",
    "            if self.head.next != None:\n",
    "                self.head = self.head.next\n",
    "                self.head.prev = None\n",
    "            else:\n",
    "                self.head = None    \n",
    "        else:\n",
    "            print('can\"t delete from empty linked list')\n",
    "    def delmiddle(self):\n",
    "        if self.head != None:\n",
    "            if self.head.next == None:\n",
    "                self.head = None\n",
    "            else:\n",
    "                n = self.head\n",
    "                while n.next.next != None:\n",
    "                    n = n.next\n",
    "                n.next = None\n",
    "        else:\n",
    "            print('can\"t delete from empty linked list')\n",
    "    def delend(self,pos):\n",
    "         if self.head != None:\n",
    "            if pos == 1:\n",
    "                self.delbegin()\n",
    "            else:\n",
    "                i = 1\n",
    "                n= self.head\n",
    "                while i != pos -1 and n != None:\n",
    "                    n = n.next\n",
    "                    i += 1\n",
    "                if i == pos-1:\n",
    "                    if n.next.next != None:\n",
    "                        n.next = n.next.next\n",
    "                        n.next.prev = n\n",
    "                    else:\n",
    "                        self.delend()\n",
    "    def add_middle_after_value(self,value,new_data):\n",
    "        new_node=Node(new_data)\n",
    "        if self.head==None:\n",
    "            self.head=new_node\n",
    "        n=self.head\n",
    "        while n.data!=value and n.next!=None:\n",
    "            n=n.next\n",
    "        if n.data==value and n.next!=None:\n",
    "                new_node.next=n.next\n",
    "                n.next.prev=new_node\n",
    "                n.next=new_node\n",
    "                new_node.prev=n\n",
    "        elif n.data==value and n.next== None: \n",
    "            self.addend(new_node)\n",
    "        else:\n",
    "            print(\"enter a valid value\")\n",
    "    def reverse_traverse(self):\n",
    "        n=self.head\n",
    "        while n.next!=None:\n",
    "            n=n.next\n",
    "        while n!=None:\n",
    "            print(n.data)\n",
    "            n=n.prev\n",
    "\n",
    "\n",
    "        "
   ]
  },
  {
   "cell_type": "code",
   "execution_count": 8,
   "metadata": {},
   "outputs": [
    {
     "name": "stdout",
     "output_type": "stream",
     "text": [
      "10\n",
      "20\n",
      "30\n",
      "35\n",
      "40\n",
      "50\n"
     ]
    }
   ],
   "source": [
    "ll1=Doublyli()\n",
    "ll1.addbegin(10)\n",
    "ll1.addend(20)\n",
    "ll1.addend(30)\n",
    "ll1.addend(40)\n",
    "ll1.addend(50)\n",
    "ll1.add_middle_after_value(30,35)\n",
    "ll1.traverse()\n"
   ]
  },
  {
   "cell_type": "code",
   "execution_count": 9,
   "metadata": {},
   "outputs": [
    {
     "name": "stdout",
     "output_type": "stream",
     "text": [
      "50\n",
      "40\n",
      "35\n",
      "30\n",
      "20\n",
      "10\n"
     ]
    }
   ],
   "source": [
    "ll1.reverse_traverse()"
   ]
  }
 ],
 "metadata": {
  "kernelspec": {
   "display_name": "Python 3",
   "language": "python",
   "name": "python3"
  },
  "language_info": {
   "codemirror_mode": {
    "name": "ipython",
    "version": 3
   },
   "file_extension": ".py",
   "mimetype": "text/x-python",
   "name": "python",
   "nbconvert_exporter": "python",
   "pygments_lexer": "ipython3",
   "version": "3.10.1"
  },
  "orig_nbformat": 4,
  "vscode": {
   "interpreter": {
    "hash": "2a550a8d8fd6d242452b812b10df60af2c1952ddd171a737653c9e54f688e947"
   }
  }
 },
 "nbformat": 4,
 "nbformat_minor": 2
}
