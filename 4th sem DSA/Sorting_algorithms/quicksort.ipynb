{
 "cells": [
  {
   "cell_type": "code",
   "execution_count": 1,
   "metadata": {},
   "outputs": [
    {
     "name": "stdout",
     "output_type": "stream",
     "text": [
      "Sorted array: [1, 5, 7, 8, 9, 10]\n"
     ]
    }
   ],
   "source": [
    "\n",
    "def partition(array, low, high):\n",
    "\n",
    "\tpivot = array[high]\n",
    "\n",
    "\ti = low - 1\n",
    "\n",
    "\tfor j in range(low, high):\n",
    "\t\tif array[j] <= pivot:\n",
    "\t\t\ti = i + 1\n",
    "\n",
    "\t\t\t(array[i], array[j]) = (array[j], array[i])\n",
    "\n",
    "\t(array[i + 1], array[high]) = (array[high], array[i + 1])\n",
    "\n",
    "\treturn i + 1\n",
    "\n",
    "\n",
    "def quick_sort(array, low, high):\n",
    "\tif low < high:\n",
    "\n",
    "\t\tpi = partition(array, low, high)\n",
    "\n",
    "\t\tquick_sort(array, low, pi - 1)\n",
    "\n",
    "\t\tquick_sort(array, pi + 1, high)\n",
    "\n",
    "\n",
    "array = [10, 7, 8, 9, 1, 5]\n",
    "quick_sort(array, 0, len(array) - 1)\n",
    "\n",
    "print(f'Sorted array: {array}')\n"
   ]
  }
 ],
 "metadata": {
  "kernelspec": {
   "display_name": "Python 3",
   "language": "python",
   "name": "python3"
  },
  "language_info": {
   "codemirror_mode": {
    "name": "ipython",
    "version": 3
   },
   "file_extension": ".py",
   "mimetype": "text/x-python",
   "name": "python",
   "nbconvert_exporter": "python",
   "pygments_lexer": "ipython3",
   "version": "3.11.2"
  },
  "orig_nbformat": 4
 },
 "nbformat": 4,
 "nbformat_minor": 2
}
