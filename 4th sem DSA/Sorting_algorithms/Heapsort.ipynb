{
 "cells": [
  {
   "cell_type": "code",
   "execution_count": 4,
   "metadata": {},
   "outputs": [],
   "source": [
    "def heapify(arr, N, i):\n",
    "    largest = i\n",
    "    l = 2*i+1\n",
    "    r = 2*i+2\n",
    "    if l < N and arr[largest] < arr[l]:\n",
    "        largest = l\n",
    "    if r < N and arr[largest] < arr[r]:\n",
    "        largest = r\n",
    "    if largest != i:\n",
    "        arr[i], arr[largest] = arr[largest], arr[i]\n",
    "\n",
    "\n",
    "def heapsort(arr):\n",
    "    N = len(arr)\n",
    "    for i in range(N//2-1, -1, -1):\n",
    "        heapify(arr, N, i)\n",
    "    for i in range(N-1, 0, -1):\n",
    "        arr[i], arr[0] = arr[0], arr[i]\n",
    "        heapify(arr, i, 0)\n",
    "    print(\"sorted array is :\")\n",
    "    for i in range(N):\n",
    "        print(arr[i], end=\" \")\n"
   ]
  },
  {
   "cell_type": "code",
   "execution_count": 5,
   "metadata": {},
   "outputs": [
    {
     "name": "stdout",
     "output_type": "stream",
     "text": [
      "sorted array is :\n",
      "1 5 10 15 17 20 30 "
     ]
    }
   ],
   "source": [
    "arr=[15,5,20,1,17,10,30]\n",
    "heapsort(arr)"
   ]
  }
 ],
 "metadata": {
  "kernelspec": {
   "display_name": "Python 3",
   "language": "python",
   "name": "python3"
  },
  "language_info": {
   "codemirror_mode": {
    "name": "ipython",
    "version": 3
   },
   "file_extension": ".py",
   "mimetype": "text/x-python",
   "name": "python",
   "nbconvert_exporter": "python",
   "pygments_lexer": "ipython3",
   "version": "3.11.2"
  },
  "orig_nbformat": 4,
  "vscode": {
   "interpreter": {
    "hash": "97a6424d960b4f241dbb0235a7a85ffeb016f234d30a266a2d29bb7dc272fd03"
   }
  }
 },
 "nbformat": 4,
 "nbformat_minor": 2
}
