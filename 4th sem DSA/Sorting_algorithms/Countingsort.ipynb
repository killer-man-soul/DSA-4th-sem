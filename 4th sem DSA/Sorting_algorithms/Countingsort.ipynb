{
 "cells": [
  {
   "cell_type": "code",
   "execution_count": 3,
   "metadata": {},
   "outputs": [],
   "source": [
    "def Countingsort(arr):\n",
    "    size = len(arr)\n",
    "    output = [0]*size\n",
    "\n",
    "    count = [0]*10\n",
    "    for m in range(0, size):\n",
    "        count[arr[m]] += 1\n",
    "    for m in range(1, 10):\n",
    "        count[m] += count[m-1]\n",
    "    m = size-1\n",
    "    while m >= 0:\n",
    "        output[count[arr[m]]-1] = arr[m]\n",
    "        count[arr[m]] -= 1\n",
    "        m -= 1\n",
    "    for m in range(0, size):\n",
    "        arr[m] = output[m]\n",
    "    print(\"sorted array is :\")\n",
    "    print(arr)\n"
   ]
  },
  {
   "cell_type": "code",
   "execution_count": 4,
   "metadata": {},
   "outputs": [
    {
     "name": "stdout",
     "output_type": "stream",
     "text": [
      "sorted array is :\n",
      "[1, 1, 2, 2, 4, 5, 7]\n"
     ]
    }
   ],
   "source": [
    "data=[1,4,1,2,7,5,2]\n",
    "Countingsort(data)"
   ]
  }
 ],
 "metadata": {
  "kernelspec": {
   "display_name": "Python 3",
   "language": "python",
   "name": "python3"
  },
  "language_info": {
   "codemirror_mode": {
    "name": "ipython",
    "version": 3
   },
   "file_extension": ".py",
   "mimetype": "text/x-python",
   "name": "python",
   "nbconvert_exporter": "python",
   "pygments_lexer": "ipython3",
   "version": "3.11.2"
  },
  "orig_nbformat": 4,
  "vscode": {
   "interpreter": {
    "hash": "97a6424d960b4f241dbb0235a7a85ffeb016f234d30a266a2d29bb7dc272fd03"
   }
  }
 },
 "nbformat": 4,
 "nbformat_minor": 2
}
